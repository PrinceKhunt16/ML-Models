{
 "cells": [
  {
   "cell_type": "code",
   "execution_count": 109,
   "id": "480410b3",
   "metadata": {},
   "outputs": [],
   "source": [
    "import numpy as np\n",
    "from sklearn.datasets import load_diabetes\n",
    "from sklearn.linear_model import LinearRegression\n",
    "from sklearn.metrics import r2_score\n",
    "from sklearn.model_selection import train_test_split"
   ]
  },
  {
   "cell_type": "code",
   "execution_count": 110,
   "id": "a720e496",
   "metadata": {},
   "outputs": [],
   "source": [
    "X, y = load_diabetes(return_X_y=True)"
   ]
  },
  {
   "cell_type": "code",
   "execution_count": 111,
   "id": "fb217682",
   "metadata": {},
   "outputs": [],
   "source": [
    "X_train, X_test, y_train, y_test = train_test_split(X, y, test_size=0.2, random_state=2)"
   ]
  },
  {
   "cell_type": "code",
   "execution_count": 112,
   "id": "7f55ab93",
   "metadata": {},
   "outputs": [],
   "source": [
    "lr = LinearRegression()"
   ]
  },
  {
   "cell_type": "code",
   "execution_count": 113,
   "id": "8a9b8dab",
   "metadata": {},
   "outputs": [
    {
     "name": "stdout",
     "output_type": "stream",
     "text": [
      "[  -9.15865318 -205.45432163  516.69374454  340.61999905 -895.5520019\n",
      "  561.22067904  153.89310954  126.73139688  861.12700152   52.42112238]\n",
      "151.88331005254167\n"
     ]
    }
   ],
   "source": [
    "lr.fit(X_train, y_train)\n",
    "print(lr.coef_)\n",
    "print(lr.intercept_)"
   ]
  },
  {
   "cell_type": "code",
   "execution_count": 114,
   "id": "a1891526",
   "metadata": {},
   "outputs": [],
   "source": [
    "y_pred = lr.predict(X_test)"
   ]
  },
  {
   "cell_type": "code",
   "execution_count": 115,
   "id": "9dd0155a-fd3e-4991-93c7-e61e10aee1d2",
   "metadata": {},
   "outputs": [
    {
     "data": {
      "text/plain": [
       "0.4399338661568969"
      ]
     },
     "execution_count": 115,
     "metadata": {},
     "output_type": "execute_result"
    }
   ],
   "source": [
    "r2_score(y_test, y_pred)"
   ]
  },
  {
   "cell_type": "code",
   "execution_count": 116,
   "id": "0a55c997",
   "metadata": {},
   "outputs": [],
   "source": [
    "import random\n",
    "\n",
    "class GDRegressor:\n",
    "    def __init__(self, batch_size, learning_rate=0.01, epochs=100):\n",
    "        self.coef_ = None\n",
    "        self.intercept_ = None\n",
    "        self.lr = learning_rate\n",
    "        self.epochs = epochs\n",
    "        self.batch_size = batch_size\n",
    "        \n",
    "    def fit(self, X_train, y_train):\n",
    "        self.intercept_ = 0\n",
    "        self.coef_ = np.ones(X_train.shape[1])\n",
    "        \n",
    "        for i in range(self.epochs):\n",
    "            for j in range(int(X_train.shape[0] / self.batch_size)):\n",
    "                index = random.sample(range(X_train.shape[0]),self.batch_size)\n",
    "                y_hat = np.dot(X_train[index],self.coef_) + self.intercept_\n",
    "\n",
    "                intercept_der = -2 * np.mean(y_train[index] - y_hat)\n",
    "                self.intercept_ = self.intercept_ - (self.lr * intercept_der)\n",
    "\n",
    "                coef_der = -2 * np.dot((y_train[index] - y_hat),X_train[index])\n",
    "                self.coef_ = self.coef_ - (self.lr * coef_der)\n",
    "    \n",
    "    def predict(self,X_test):\n",
    "        return np.dot(X_test,self.coef_) + self.intercept_"
   ]
  },
  {
   "cell_type": "code",
   "execution_count": 117,
   "id": "916c1a07",
   "metadata": {},
   "outputs": [],
   "source": [
    "gd = GDRegressor(epochs=1000, learning_rate=0.1, batch_size = int(X_train.shape[0] / 5))"
   ]
  },
  {
   "cell_type": "code",
   "execution_count": 118,
   "id": "fb9c36f3",
   "metadata": {},
   "outputs": [],
   "source": [
    "gd.fit(X_train, y_train)"
   ]
  },
  {
   "cell_type": "code",
   "execution_count": 119,
   "id": "db51dcd7-7b5e-4df1-950e-7310c9497118",
   "metadata": {},
   "outputs": [
    {
     "data": {
      "text/plain": [
       "array([ -32.35305604, -190.45492964,  509.26662961,  336.23001489,\n",
       "       -689.60980482,  417.77279552,   65.92715109,   92.03339495,\n",
       "        776.40942723,   52.15140896])"
      ]
     },
     "execution_count": 119,
     "metadata": {},
     "output_type": "execute_result"
    }
   ],
   "source": [
    "gd.coef_"
   ]
  },
  {
   "cell_type": "code",
   "execution_count": 120,
   "id": "ebfbf53e-8401-4ecb-86a4-ac7104f86721",
   "metadata": {},
   "outputs": [
    {
     "data": {
      "text/plain": [
       "148.45606100747747"
      ]
     },
     "execution_count": 120,
     "metadata": {},
     "output_type": "execute_result"
    }
   ],
   "source": [
    "gd.intercept_"
   ]
  },
  {
   "cell_type": "code",
   "execution_count": 121,
   "id": "bcd8f1cb",
   "metadata": {},
   "outputs": [
    {
     "data": {
      "text/plain": [
       "array([149.1581713 , 204.33250059, 121.40946199, 103.31868271,\n",
       "       256.03937575, 247.78543101, 114.5530671 , 116.30249255,\n",
       "        95.91384505, 187.49572905, 140.41488314, 167.22910948,\n",
       "       170.44056903, 130.2765848 , 288.98845792,  90.0761186 ,\n",
       "       207.63676817, 152.93525368, 131.82234898, 116.87956416,\n",
       "       145.06563301, 165.44158724, 147.09010556, 172.9039562 ,\n",
       "       127.40751577, 215.20052787, 193.36869784,  94.67868518,\n",
       "        48.80138135, 229.98356852, 237.59647049, 110.27621286,\n",
       "        67.55697805,  92.78597099, 198.52442016, 161.89836705,\n",
       "       155.98412241, 187.86370096, 110.81860767, 227.48615094,\n",
       "       139.09515884, 117.40671588, 190.65445378, 187.1085735 ,\n",
       "       172.43290146, 145.99660279, 159.97332907, 274.42286101,\n",
       "        97.61602746, 160.37299992, 252.245699  , 136.16230802,\n",
       "       149.32008124, 104.01918251, 189.40061679,  77.61911648,\n",
       "       116.98598458,  67.05468561, 151.07778369, 159.01475237,\n",
       "       163.39814342, 153.69479785,  94.24263403, 232.997002  ,\n",
       "       141.16292254, 116.6850085 , 163.07874645, 191.5960958 ,\n",
       "       114.26831216, 122.34297358, 216.30912657, 196.2795    ,\n",
       "       123.87052532, 154.93218063, 148.43553334, 112.12089128,\n",
       "        71.45530658,  74.90744952, 167.72612012,  81.27170178,\n",
       "        81.15607814,  86.93392447, 181.2304487 , 272.52808822,\n",
       "       202.24324839, 142.07100777, 283.75410481, 200.56472783,\n",
       "        92.23852673])"
      ]
     },
     "execution_count": 121,
     "metadata": {},
     "output_type": "execute_result"
    }
   ],
   "source": [
    "y_pred = gd.predict(X_test)\n",
    "y_pred"
   ]
  },
  {
   "cell_type": "code",
   "execution_count": 122,
   "id": "68858bae",
   "metadata": {},
   "outputs": [
    {
     "data": {
      "text/plain": [
       "0.43950344660785523"
      ]
     },
     "execution_count": 122,
     "metadata": {},
     "output_type": "execute_result"
    }
   ],
   "source": [
    "r2_score(y_test,y_pred)"
   ]
  }
 ],
 "metadata": {
  "kernelspec": {
   "display_name": "Python 3 (ipykernel)",
   "language": "python",
   "name": "python3"
  },
  "language_info": {
   "codemirror_mode": {
    "name": "ipython",
    "version": 3
   },
   "file_extension": ".py",
   "mimetype": "text/x-python",
   "name": "python",
   "nbconvert_exporter": "python",
   "pygments_lexer": "ipython3",
   "version": "3.11.6"
  }
 },
 "nbformat": 4,
 "nbformat_minor": 5
}
