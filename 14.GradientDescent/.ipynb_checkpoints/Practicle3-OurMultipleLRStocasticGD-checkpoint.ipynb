{
 "cells": [
  {
   "cell_type": "code",
   "execution_count": 63,
   "id": "480410b3",
   "metadata": {},
   "outputs": [],
   "source": [
    "import numpy as np\n",
    "from sklearn.datasets import load_diabetes\n",
    "from sklearn.linear_model import LinearRegression\n",
    "from sklearn.metrics import r2_score\n",
    "from sklearn.model_selection import train_test_split"
   ]
  },
  {
   "cell_type": "code",
   "execution_count": 64,
   "id": "a720e496",
   "metadata": {},
   "outputs": [],
   "source": [
    "X, y = load_diabetes(return_X_y=True)"
   ]
  },
  {
   "cell_type": "code",
   "execution_count": 65,
   "id": "fb217682",
   "metadata": {},
   "outputs": [],
   "source": [
    "X_train, X_test, y_train, y_test = train_test_split(X, y, test_size=0.2, random_state=2)"
   ]
  },
  {
   "cell_type": "code",
   "execution_count": 66,
   "id": "7f55ab93",
   "metadata": {},
   "outputs": [],
   "source": [
    "lr = LinearRegression()"
   ]
  },
  {
   "cell_type": "code",
   "execution_count": 67,
   "id": "8a9b8dab",
   "metadata": {},
   "outputs": [
    {
     "name": "stdout",
     "output_type": "stream",
     "text": [
      "[  -9.15865318 -205.45432163  516.69374454  340.61999905 -895.5520019\n",
      "  561.22067904  153.89310954  126.73139688  861.12700152   52.42112238]\n",
      "151.88331005254167\n"
     ]
    }
   ],
   "source": [
    "lr.fit(X_train, y_train)\n",
    "print(lr.coef_)\n",
    "print(lr.intercept_)"
   ]
  },
  {
   "cell_type": "code",
   "execution_count": 68,
   "id": "a1891526",
   "metadata": {},
   "outputs": [],
   "source": [
    "y_pred = lr.predict(X_test)"
   ]
  },
  {
   "cell_type": "code",
   "execution_count": 69,
   "id": "9dd0155a-fd3e-4991-93c7-e61e10aee1d2",
   "metadata": {},
   "outputs": [
    {
     "data": {
      "text/plain": [
       "0.4399338661568969"
      ]
     },
     "execution_count": 69,
     "metadata": {},
     "output_type": "execute_result"
    }
   ],
   "source": [
    "r2_score(y_test, y_pred)"
   ]
  },
  {
   "cell_type": "code",
   "execution_count": 70,
   "id": "0a55c997",
   "metadata": {},
   "outputs": [],
   "source": [
    "class GDRegressor:\n",
    "    def __init__(self, learning_rate=0.01, epochs=100):\n",
    "        self.coef_ = None\n",
    "        self.intercept_ = None\n",
    "        self.lr = learning_rate\n",
    "        self.epochs = epochs\n",
    "        \n",
    "    def fit(self, X_train, y_train):\n",
    "        self.intercept_ = 0\n",
    "        self.coef_ = np.ones(X_train.shape[1])\n",
    "        \n",
    "        for i in range(self.epochs):\n",
    "            for j in range(X_train.shape[0]):\n",
    "                index = np.random.randint(0,X_train.shape[0])\n",
    "                \n",
    "                y_hat = np.dot(X_train[index],self.coef_) + self.intercept_\n",
    "                \n",
    "                intercept_der = -2 * (y_train[index] - y_hat)\n",
    "                self.intercept_ = self.intercept_ - (self.lr * intercept_der)\n",
    "                \n",
    "                coef_der = -2 * np.dot((y_train[index] - y_hat),X_train[index])\n",
    "                self.coef_ = self.coef_ - (self.lr * coef_der)\n",
    "    \n",
    "    def predict(self,X_test):\n",
    "        return np.dot(X_test,self.coef_) + self.intercept_"
   ]
  },
  {
   "cell_type": "code",
   "execution_count": 71,
   "id": "916c1a07",
   "metadata": {},
   "outputs": [],
   "source": [
    "gd = GDRegressor(epochs=3000, learning_rate=0.1)"
   ]
  },
  {
   "cell_type": "code",
   "execution_count": 72,
   "id": "fb9c36f3",
   "metadata": {},
   "outputs": [],
   "source": [
    "gd.fit(X_train,y_train)"
   ]
  },
  {
   "cell_type": "code",
   "execution_count": 73,
   "id": "db51dcd7-7b5e-4df1-950e-7310c9497118",
   "metadata": {},
   "outputs": [
    {
     "data": {
      "text/plain": [
       "array([ -24.32479836, -201.05736959,  513.95479763,  360.46027051,\n",
       "       -868.73029457,  559.87640298,  171.35375374,  103.69837668,\n",
       "        860.04373316,   25.41623999])"
      ]
     },
     "execution_count": 73,
     "metadata": {},
     "output_type": "execute_result"
    }
   ],
   "source": [
    "gd.coef_"
   ]
  },
  {
   "cell_type": "code",
   "execution_count": 74,
   "id": "ebfbf53e-8401-4ecb-86a4-ac7104f86721",
   "metadata": {},
   "outputs": [
    {
     "data": {
      "text/plain": [
       "144.83584801130013"
      ]
     },
     "execution_count": 74,
     "metadata": {},
     "output_type": "execute_result"
    }
   ],
   "source": [
    "gd.intercept_"
   ]
  },
  {
   "cell_type": "code",
   "execution_count": 75,
   "id": "bcd8f1cb",
   "metadata": {},
   "outputs": [
    {
     "data": {
      "text/plain": [
       "array([149.45357952, 202.75849465, 116.74624594, 100.87520966,\n",
       "       249.3664631 , 242.75361386, 113.41282239, 111.67018783,\n",
       "        97.38255724, 182.57199929, 135.42881184, 163.39084882,\n",
       "       164.83270674, 125.40254596, 286.2373827 ,  93.04196747,\n",
       "       205.29034601, 149.85486615, 127.06934803, 111.02438792,\n",
       "       141.5157297 , 157.77906598, 143.22773099, 170.85439636,\n",
       "       127.74742093, 206.243821  , 189.51757148,  91.97077525,\n",
       "        45.8679195 , 223.37852389, 230.57494933, 108.00778153,\n",
       "        63.01974161,  90.15992639, 192.00070661, 157.00216809,\n",
       "       153.27944778, 183.90865319, 109.67590754, 222.08080111,\n",
       "       134.60650572, 115.05257939, 185.45600396, 183.3122121 ,\n",
       "       169.83093612, 140.46467876, 155.51816003, 263.88039177,\n",
       "        93.66940236, 155.78888362, 247.99419829, 130.73766618,\n",
       "       145.49922723,  94.68278124, 187.06923868,  70.1643988 ,\n",
       "       112.16229622,  63.30185322, 147.9718212 , 156.32192495,\n",
       "       162.44122913, 149.67277378,  92.41261304, 233.22111189,\n",
       "       134.14858402, 113.42818307, 158.4668597 , 187.68468338,\n",
       "       109.00282767, 116.89584559, 216.223682  , 192.83069132,\n",
       "       121.33600328, 151.23257938, 147.18104774, 108.50697238,\n",
       "        63.57559993,  71.87278551, 162.42537423,  77.24081742,\n",
       "        72.60157476,  78.86446102, 176.76520693, 267.76740338,\n",
       "       196.62584049, 135.80611918, 281.68660392, 197.89356407,\n",
       "        90.40927646])"
      ]
     },
     "execution_count": 75,
     "metadata": {},
     "output_type": "execute_result"
    }
   ],
   "source": [
    "y_pred = gd.predict(X_test)\n",
    "y_pred"
   ]
  },
  {
   "cell_type": "code",
   "execution_count": 76,
   "id": "68858bae",
   "metadata": {},
   "outputs": [
    {
     "data": {
      "text/plain": [
       "0.4216006378639746"
      ]
     },
     "execution_count": 76,
     "metadata": {},
     "output_type": "execute_result"
    }
   ],
   "source": [
    "r2_score(y_test,y_pred)"
   ]
  }
 ],
 "metadata": {
  "kernelspec": {
   "display_name": "Python 3 (ipykernel)",
   "language": "python",
   "name": "python3"
  },
  "language_info": {
   "codemirror_mode": {
    "name": "ipython",
    "version": 3
   },
   "file_extension": ".py",
   "mimetype": "text/x-python",
   "name": "python",
   "nbconvert_exporter": "python",
   "pygments_lexer": "ipython3",
   "version": "3.11.6"
  }
 },
 "nbformat": 4,
 "nbformat_minor": 5
}
