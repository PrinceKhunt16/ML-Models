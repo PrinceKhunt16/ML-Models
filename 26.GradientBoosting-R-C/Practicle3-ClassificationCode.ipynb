{
 "cells": [
  {
   "cell_type": "markdown",
   "id": "72a79804-1245-455b-989f-615fc1a6a108",
   "metadata": {},
   "source": [
    "### https://colab.research.google.com/drive/13p46IFhg3h6BIdjxUcfXPco13jIOCV6I?usp=sharing#scrollTo=a89ee424"
   ]
  },
  {
   "cell_type": "markdown",
   "id": "72233a62-c323-4839-92e0-4ec706ef35b1",
   "metadata": {},
   "source": [
    "### https://towardsdatascience.com/all-you-need-to-know-about-gradient-boosting-algorithm-part-2-classification-d3ed8f56541e"
   ]
  }
 ],
 "metadata": {
  "kernelspec": {
   "display_name": "Python 3 (ipykernel)",
   "language": "python",
   "name": "python3"
  },
  "language_info": {
   "codemirror_mode": {
    "name": "ipython",
    "version": 3
   },
   "file_extension": ".py",
   "mimetype": "text/x-python",
   "name": "python",
   "nbconvert_exporter": "python",
   "pygments_lexer": "ipython3",
   "version": "3.11.6"
  }
 },
 "nbformat": 4,
 "nbformat_minor": 5
}
