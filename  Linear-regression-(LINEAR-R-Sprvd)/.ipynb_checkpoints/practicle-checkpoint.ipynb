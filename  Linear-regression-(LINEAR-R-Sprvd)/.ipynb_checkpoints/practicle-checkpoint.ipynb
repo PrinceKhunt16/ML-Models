{
 "cells": [
  {
   "cell_type": "code",
   "execution_count": null,
   "id": "0cca3a91-0746-41ea-aaa8-41d631a30caa",
   "metadata": {},
   "outputs": [],
   "source": [
    "import numpy as np\n",
    "import pandas as pd\n",
    "import matplotlib.pyplot as plt\n",
    "import seaborn as sns\n",
    "%matplotlib inline"
   ]
  },
  {
   "cell_type": "code",
   "execution_count": null,
   "id": "fcf998c6-ccf9-428a-b2ed-46281869689a",
   "metadata": {},
   "outputs": [],
   "source": [
    "data = pd.read_csv('train.csv');"
   ]
  },
  {
   "cell_type": "code",
   "execution_count": null,
   "id": "aed827e2-3dc5-414f-bb08-a6ff9e36d1b7",
   "metadata": {},
   "outputs": [],
   "source": [
    "data.head()"
   ]
  },
  {
   "cell_type": "code",
   "execution_count": null,
   "id": "d34bd95b-e304-475d-8315-518d4f60c6d3",
   "metadata": {},
   "outputs": [],
   "source": [
    "data.columns"
   ]
  },
  {
   "cell_type": "code",
   "execution_count": null,
   "id": "24497da6-069d-41a6-8d2a-f1c231226199",
   "metadata": {},
   "outputs": [],
   "source": [
    "data.shape"
   ]
  },
  {
   "cell_type": "code",
   "execution_count": null,
   "id": "2d67c5fe-0e7c-4a38-93d1-f8df1cea76db",
   "metadata": {},
   "outputs": [],
   "source": [
    "missing_data = data.isnull().sum()\n",
    "missing_data = missing_data[missing_data > 0]\n",
    "missing_data.sort_values(inplace=True)\n",
    "plt.figure(figsize=(15,8))\n",
    "missing_data.plot.bar()"
   ]
  },
  {
   "cell_type": "code",
   "execution_count": null,
   "id": "7f277e8d-cfc4-4fd7-818a-aabdcb7c4f73",
   "metadata": {},
   "outputs": [],
   "source": [
    "sns.set(rc={'figure.figsize':(15,8)})\n",
    "sns.displot(data['SalePrice'], kde=True, bins=20)"
   ]
  },
  {
   "cell_type": "code",
   "execution_count": null,
   "id": "87d1f4f2-e9b9-418f-b529-ee997c62674f",
   "metadata": {},
   "outputs": [],
   "source": [
    "data['SalePrice'].describe()"
   ]
  },
  {
   "cell_type": "code",
   "execution_count": null,
   "id": "4063bc5b-4f79-4408-bca6-a21a78bab651",
   "metadata": {},
   "outputs": [],
   "source": [
    "numeric_features = data.select_dtypes(include=[np.number])\n",
    "numeric_features.columns"
   ]
  },
  {
   "cell_type": "code",
   "execution_count": null,
   "id": "8d1a38c6-04ca-4482-b89e-2114b8df9146",
   "metadata": {},
   "outputs": [],
   "source": [
    "categorial_features = data.select_dtypes(include=[object])\n",
    "categorial_features.columns"
   ]
  },
  {
   "cell_type": "code",
   "execution_count": null,
   "id": "6421c105-7f00-45bd-a9ce-1d536accb78b",
   "metadata": {},
   "outputs": [],
   "source": [
    "correlation = numeric_features.corr()\n",
    "correlation['SalePrice'].sort_values(ascending=False)"
   ]
  },
  {
   "cell_type": "code",
   "execution_count": null,
   "id": "c4f8c432-5f17-49e1-9e95-6783c3f6d527",
   "metadata": {},
   "outputs": [],
   "source": [
    "plt.title('Correlation of numeric features with sale price', y=1, size=16)\n",
    "sns.heatmap(correlation, square=True, vmax=0.8)"
   ]
  },
  {
   "cell_type": "code",
   "execution_count": null,
   "id": "c52f21cb-aa3f-4c82-9518-69b398047665",
   "metadata": {},
   "outputs": [],
   "source": [
    "k=11\n",
    "cols = correlation.nlargest(k, 'SalePrice')['SalePrice'].index\n",
    "cols"
   ]
  },
  {
   "cell_type": "code",
   "execution_count": null,
   "id": "c4d0a3c6-c9ed-47b1-b605-ebf17b4448f9",
   "metadata": {},
   "outputs": [],
   "source": [
    "cm = np.corrcoef(data[cols].values.T)\n",
    "sns.heatmap(cm, vmax=0.8, linewidths=0.01, square=True, annot=True, cmap='viridis', linecolor='white', xticklabels=cols.values, annot_kws={'size':12}, yticklabels=cols.values)"
   ]
  },
  {
   "cell_type": "code",
   "execution_count": null,
   "id": "cbe91d7d-6258-41fc-8961-c01312c790a8",
   "metadata": {},
   "outputs": [],
   "source": [
    "fig, ((ax1, ax2), (ax3, ax4), (ax5, ax6), (ax7,ax8)) = plt.subplots(nrows=4, ncols=2)\n",
    "sns.scatterplot(data=data, x='GarageCars', y='SalePrice', ax=ax1)\n",
    "sns.scatterplot(data=data, x='OverallQual', y='SalePrice', ax=ax2)\n",
    "sns.scatterplot(data=data, x='GrLivArea', y='SalePrice', ax=ax3)\n",
    "sns.scatterplot(data=data, x='FullBath', y='SalePrice', ax=ax4)\n",
    "sns.scatterplot(data=data, x='YearBuilt', y='SalePrice', ax=ax5)\n",
    "sns.scatterplot(data=data, x='GarageCars', y='SalePrice', ax=ax6)\n",
    "sns.scatterplot(data=data, x='WoodDeckSF', y='SalePrice', ax=ax7)\n",
    "sns.scatterplot(data=data, x='YearRemodAdd', y='SalePrice', ax=ax8)"
   ]
  },
  {
   "cell_type": "code",
   "execution_count": null,
   "id": "f25611e2-e1ac-4402-9646-2e2ee1f8054e",
   "metadata": {},
   "outputs": [],
   "source": [
    "fig, ((ax1, ax2), (ax3, ax4), (ax5, ax6), (ax7,ax8)) = plt.subplots(nrows=4, ncols=2)\n",
    "sns.regplot(data=data, x='GarageCars', y='SalePrice', scatter=True, ax=ax1)\n",
    "sns.regplot(data=data, x='OverallQual', y='SalePrice', scatter=True, ax=ax2)\n",
    "sns.regplot(data=data, x='GrLivArea', y='SalePrice', scatter=True, ax=ax3)\n",
    "sns.regplot(data=data, x='FullBath', y='SalePrice', scatter=True, ax=ax4)\n",
    "sns.regplot(data=data, x='YearBuilt', y='SalePrice', scatter=True, ax=ax5)\n",
    "sns.regplot(data=data, x='GarageCars', y='SalePrice', scatter=True, ax=ax6)\n",
    "sns.regplot(data=data, x='WoodDeckSF', y='SalePrice', scatter=True, ax=ax7)\n",
    "sns.regplot(data=data, x='YearRemodAdd', y='SalePrice', scatter=True, ax=ax8)"
   ]
  },
  {
   "cell_type": "code",
   "execution_count": null,
   "id": "0fa11570-2305-441a-be9d-f31c26e55f91",
   "metadata": {},
   "outputs": [],
   "source": [
    "fig, ((ax1, ax2), (ax3, ax4)) = plt.subplots(nrows=2, ncols=2)\n",
    "sns.boxplot(data=data, x='GarageCars', y='SalePrice', ax=ax1)\n",
    "sns.boxplot(data=data, x='OverallQual', y='SalePrice', ax=ax2)\n",
    "sns.boxplot(data=data, x='FullBath', y='SalePrice', ax=ax3)\n",
    "sns.boxplot(data=data, x='GarageCars', y='SalePrice', ax=ax4)"
   ]
  },
  {
   "cell_type": "code",
   "execution_count": null,
   "id": "1cb0a9ef-ae85-4488-8ed5-ed60ad720b03",
   "metadata": {},
   "outputs": [],
   "source": [
    "Q1 = data['SalePrice'].quantile(0.25)\n",
    "Q3 = data['SalePrice'].quantile(0.75)\n",
    "IQR = Q3 - Q1\n",
    "lower_bound = Q1 - 1.5 * IQR\n",
    "upper_bound = Q3 + 1.5 * IQR\n",
    "data_no_outliers = data[(data['SalePrice'] >= lower_bound) & (data['SalePrice'] <= upper_bound)].dropna()\n",
    "data_no_outliers.reset_index(drop=True, inplace=True)"
   ]
  },
  {
   "cell_type": "code",
   "execution_count": null,
   "id": "f3f895ed-2b02-41a8-a140-8c516b5a453c",
   "metadata": {},
   "outputs": [],
   "source": [
    "columns_to_remove = [\n",
    "    'WoodDeckSF', '2ndFlrSF', 'OpenPorchSF', 'HalfBath', 'LotArea', \n",
    "    'BsmtFullBath', 'BsmtUnfSF', 'BedroomAbvGr', 'ScreenPorch', \n",
    "    'PoolArea', 'MoSold', '3SsnPorch', 'BsmtFinSF2', 'BsmtHalfBath', \n",
    "    'MiscVal', 'Id', 'LowQualFinSF', 'YrSold', 'OverallCond', \n",
    "    'MSSubClass', 'EnclosedPorch', 'KitchenAbvGr'\n",
    "]"
   ]
  },
  {
   "cell_type": "code",
   "execution_count": null,
   "id": "2ab97ef9-6602-4281-944a-aa964c5a4d12",
   "metadata": {},
   "outputs": [],
   "source": [
    "data.drop(columns=columns_to_remove, inplace=True)"
   ]
  }
 ],
 "metadata": {
  "kernelspec": {
   "display_name": "Python 3 (ipykernel)",
   "language": "python",
   "name": "python3"
  },
  "language_info": {
   "codemirror_mode": {
    "name": "ipython",
    "version": 3
   },
   "file_extension": ".py",
   "mimetype": "text/x-python",
   "name": "python",
   "nbconvert_exporter": "python",
   "pygments_lexer": "ipython3",
   "version": "3.11.6"
  }
 },
 "nbformat": 4,
 "nbformat_minor": 5
}
