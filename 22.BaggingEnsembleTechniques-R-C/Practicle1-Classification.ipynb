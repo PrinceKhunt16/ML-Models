{
 "cells": [
  {
   "cell_type": "code",
   "execution_count": 1,
   "id": "b96a99f6-b008-46fc-84c4-03778e1dbc3d",
   "metadata": {},
   "outputs": [],
   "source": [
    "from sklearn.datasets import make_classification\n",
    "from sklearn.metrics import accuracy_score\n",
    "from sklearn.ensemble import BaggingClassifier\n",
    "from sklearn.tree import DecisionTreeClassifier\n",
    "from sklearn.svm import SVC\n",
    "from sklearn.model_selection import train_test_split"
   ]
  },
  {
   "cell_type": "code",
   "execution_count": 2,
   "id": "3e65ac85-d39d-44e5-ba34-7cf4f8fd0baa",
   "metadata": {},
   "outputs": [],
   "source": [
    "X,y = make_classification(n_samples=10000, n_features=10,n_informative=3)"
   ]
  },
  {
   "cell_type": "code",
   "execution_count": 3,
   "id": "9631c02c-1d05-4c09-962f-f26d200c119c",
   "metadata": {},
   "outputs": [],
   "source": [
    "X_train,X_test,y_train,y_test = train_test_split(X,y,test_size=0.2,random_state=42)"
   ]
  },
  {
   "cell_type": "code",
   "execution_count": 4,
   "id": "26beeb3f-c8b4-4fa6-8fd0-9d9b68c25d7e",
   "metadata": {},
   "outputs": [
    {
     "name": "stdout",
     "output_type": "stream",
     "text": [
      "Decision Tree accuracy 0.9075\n"
     ]
    }
   ],
   "source": [
    "dt = DecisionTreeClassifier(random_state=42)\n",
    "dt.fit(X_train,y_train)\n",
    "y_pred = dt.predict(X_test)\n",
    "print(\"Decision Tree accuracy\",accuracy_score(y_test,y_pred))"
   ]
  },
  {
   "cell_type": "markdown",
   "id": "f3716518-f526-4f6f-be6f-8453e9e2f399",
   "metadata": {},
   "source": [
    "### Bagging Tips"
   ]
  },
  {
   "cell_type": "markdown",
   "id": "daa4259b-f1e6-4244-8209-b4d616d87cee",
   "metadata": {
    "jp-MarkdownHeadingCollapsed": true
   },
   "source": [
    "1. Bagging generally gives better results than Pasting\n",
    "2. Good results come around the 25% to 50% row sampling mark\n",
    "3. Random patches and subspaces should be used while dealing with high dimensional data\n",
    "4. To find the correct hyperparameter values we can do GridSearchCV/RandomSearchCV"
   ]
  },
  {
   "cell_type": "markdown",
   "id": "6b778d64-2eb9-4562-86ff-dcdda13a1a1c",
   "metadata": {},
   "source": [
    "### Bagging DecisionClassifier"
   ]
  },
  {
   "cell_type": "code",
   "execution_count": 5,
   "id": "d943fd50-26bc-4202-9d6e-8128a9d0d2c7",
   "metadata": {},
   "outputs": [],
   "source": [
    "dt = DecisionTreeClassifier(max_depth = None)\n",
    "bc = BaggingClassifier(dt, n_estimators = 500, max_samples = 0.5, max_features = 0.5)\n",
    "bc = bc.fit(X_train, y_train)"
   ]
  },
  {
   "cell_type": "code",
   "execution_count": 6,
   "id": "58123388-8cc8-4666-a661-b1b7e1c7ce1f",
   "metadata": {},
   "outputs": [],
   "source": [
    "y_pred = bc.predict(X_test)"
   ]
  },
  {
   "cell_type": "code",
   "execution_count": 7,
   "id": "85570c99-0746-441b-92a3-bf2cc2b32b75",
   "metadata": {},
   "outputs": [
    {
     "data": {
      "text/plain": [
       "0.941"
      ]
     },
     "execution_count": 7,
     "metadata": {},
     "output_type": "execute_result"
    }
   ],
   "source": [
    "accuracy_score(y_test,y_pred)"
   ]
  },
  {
   "cell_type": "code",
   "execution_count": 8,
   "id": "91f67c00-7c30-4cb7-af1c-8f0af875a0cf",
   "metadata": {},
   "outputs": [
    {
     "data": {
      "text/plain": [
       "(4000,)"
      ]
     },
     "execution_count": 8,
     "metadata": {},
     "output_type": "execute_result"
    }
   ],
   "source": [
    "bc.estimators_samples_[0].shape"
   ]
  },
  {
   "cell_type": "code",
   "execution_count": 9,
   "id": "db0f83c2-6ff5-44b4-8750-c32ba04abc4a",
   "metadata": {},
   "outputs": [
    {
     "data": {
      "text/plain": [
       "(5,)"
      ]
     },
     "execution_count": 9,
     "metadata": {},
     "output_type": "execute_result"
    }
   ],
   "source": [
    "bc.estimators_features_[0].shape"
   ]
  },
  {
   "cell_type": "markdown",
   "id": "df94205a-af9d-4292-a897-733d1d2798c7",
   "metadata": {},
   "source": [
    "### Bagging SVM"
   ]
  },
  {
   "cell_type": "code",
   "execution_count": 10,
   "id": "3e5635e3-d884-4f46-b7c1-15a127910681",
   "metadata": {},
   "outputs": [],
   "source": [
    "dt = SVC()\n",
    "bc = BaggingClassifier(dt, n_estimators = 500, max_samples = 0.5, max_features = 0.5)\n",
    "bc = bc.fit(X_train, y_train)"
   ]
  },
  {
   "cell_type": "code",
   "execution_count": 11,
   "id": "7cb0b1c3-fd54-4ccf-a373-6bcb2c08f817",
   "metadata": {},
   "outputs": [],
   "source": [
    "y_pred = bc.predict(X_test)"
   ]
  },
  {
   "cell_type": "code",
   "execution_count": 12,
   "id": "e4e741b6-a252-483e-9732-665434e78f95",
   "metadata": {},
   "outputs": [
    {
     "data": {
      "text/plain": [
       "0.9345"
      ]
     },
     "execution_count": 12,
     "metadata": {},
     "output_type": "execute_result"
    }
   ],
   "source": [
    "accuracy_score(y_test,y_pred)"
   ]
  },
  {
   "cell_type": "markdown",
   "id": "e3d6a79f-f88b-44f2-96f0-7de137c938af",
   "metadata": {},
   "source": [
    "### Pasting"
   ]
  },
  {
   "cell_type": "code",
   "execution_count": 13,
   "id": "bd01b58c-0493-4cc6-bc66-a3f4278b75f6",
   "metadata": {},
   "outputs": [
    {
     "name": "stderr",
     "output_type": "stream",
     "text": [
      "[Parallel(n_jobs=8)]: Using backend LokyBackend with 8 concurrent workers.\n",
      "[Parallel(n_jobs=8)]: Done   2 out of   8 | elapsed:    1.5s remaining:    4.5s\n",
      "[Parallel(n_jobs=8)]: Done   8 out of   8 | elapsed:    1.6s finished\n"
     ]
    }
   ],
   "source": [
    "dt = DecisionTreeClassifier(max_depth = None)\n",
    "bc = BaggingClassifier(dt, n_estimators = 500, max_samples = 0.25, max_features = 0.5, bootstrap=False, verbose=1, n_jobs=-1)\n",
    "bc = bc.fit(X_train, y_train)"
   ]
  },
  {
   "cell_type": "code",
   "execution_count": 14,
   "id": "4a91a3a0-3507-45b9-9b02-d4d9de4fc256",
   "metadata": {},
   "outputs": [
    {
     "name": "stderr",
     "output_type": "stream",
     "text": [
      "[Parallel(n_jobs=8)]: Using backend LokyBackend with 8 concurrent workers.\n",
      "[Parallel(n_jobs=8)]: Done   2 out of   8 | elapsed:    0.0s remaining:    0.1s\n",
      "[Parallel(n_jobs=8)]: Done   8 out of   8 | elapsed:    0.1s finished\n"
     ]
    }
   ],
   "source": [
    "y_pred = bc.predict(X_test)"
   ]
  },
  {
   "cell_type": "code",
   "execution_count": 15,
   "id": "f483416c-f507-49d5-8e96-6c4418cd816f",
   "metadata": {},
   "outputs": [
    {
     "data": {
      "text/plain": [
       "0.936"
      ]
     },
     "execution_count": 15,
     "metadata": {},
     "output_type": "execute_result"
    }
   ],
   "source": [
    "accuracy_score(y_test,y_pred)"
   ]
  },
  {
   "cell_type": "markdown",
   "id": "561f88cd-9394-43d5-ae92-33e31c3e31f0",
   "metadata": {},
   "source": [
    "### Random Subspaces"
   ]
  },
  {
   "cell_type": "code",
   "execution_count": 16,
   "id": "37de546c-69d0-43d8-b10f-98d0f45ee8b6",
   "metadata": {},
   "outputs": [],
   "source": [
    "dt = DecisionTreeClassifier()\n",
    "bc = BaggingClassifier(dt, n_estimators = 500, max_samples = 0.25, max_features = 0.5, bootstrap_features=False)\n",
    "bc = bc.fit(X_train, y_train)"
   ]
  },
  {
   "cell_type": "code",
   "execution_count": 17,
   "id": "ad729386-dad8-4a6e-bf8e-a33acb1b3edc",
   "metadata": {},
   "outputs": [],
   "source": [
    "y_pred = bc.predict(X_test)"
   ]
  },
  {
   "cell_type": "code",
   "execution_count": 18,
   "id": "2be89b90-d953-4ac6-af03-a16490db16c8",
   "metadata": {},
   "outputs": [
    {
     "data": {
      "text/plain": [
       "0.9375"
      ]
     },
     "execution_count": 18,
     "metadata": {},
     "output_type": "execute_result"
    }
   ],
   "source": [
    "accuracy_score(y_test,y_pred)"
   ]
  },
  {
   "cell_type": "markdown",
   "id": "51aa6e75-fee5-4e3a-b661-5979dcc646ec",
   "metadata": {},
   "source": [
    "### Random Patches"
   ]
  },
  {
   "cell_type": "code",
   "execution_count": 19,
   "id": "b0308f4e-804b-45a9-8fcf-c9d63301eabd",
   "metadata": {},
   "outputs": [],
   "source": [
    "dt = DecisionTreeClassifier()\n",
    "bc = BaggingClassifier(dt, n_estimators = 500, max_samples = 0.25, max_features = 0.5, bootstrap=False, random_state=42)\n",
    "bc = bc.fit(X_train, y_train)"
   ]
  },
  {
   "cell_type": "code",
   "execution_count": 20,
   "id": "872e0837-08bb-43da-be0b-b650120db1af",
   "metadata": {},
   "outputs": [],
   "source": [
    "y_pred = bc.predict(X_test)"
   ]
  },
  {
   "cell_type": "code",
   "execution_count": 21,
   "id": "0d8ea432-6234-44f7-ac35-da30ae5723c6",
   "metadata": {},
   "outputs": [
    {
     "data": {
      "text/plain": [
       "0.9385"
      ]
     },
     "execution_count": 21,
     "metadata": {},
     "output_type": "execute_result"
    }
   ],
   "source": [
    "accuracy_score(y_test,y_pred)"
   ]
  },
  {
   "cell_type": "markdown",
   "id": "d6c64bfb-734e-4934-afdc-c5177a7a7826",
   "metadata": {},
   "source": [
    "### OOB Score"
   ]
  },
  {
   "cell_type": "code",
   "execution_count": 22,
   "id": "e5b62013-22a0-4d02-83e4-22b28503ccdf",
   "metadata": {},
   "outputs": [],
   "source": [
    "dt = DecisionTreeClassifier()\n",
    "bc = BaggingClassifier(dt, n_estimators = 500, max_samples = 0.25, max_features = 0.5, bootstrap=True, random_state=42, oob_score=True)\n",
    "bc = bc.fit(X_train, y_train)"
   ]
  },
  {
   "cell_type": "code",
   "execution_count": 23,
   "id": "cc833041-005f-40e1-940f-51b77362c879",
   "metadata": {},
   "outputs": [],
   "source": [
    "y_pred = bc.predict(X_test)"
   ]
  },
  {
   "cell_type": "code",
   "execution_count": 24,
   "id": "3eadcf57-1f19-4eee-8cb7-8a6cbb82ab9d",
   "metadata": {},
   "outputs": [
    {
     "data": {
      "text/plain": [
       "0.9385"
      ]
     },
     "execution_count": 24,
     "metadata": {},
     "output_type": "execute_result"
    }
   ],
   "source": [
    "accuracy_score(y_test,y_pred)"
   ]
  },
  {
   "cell_type": "code",
   "execution_count": 25,
   "id": "4715e5a3-8ecc-4919-bc70-62a3cc19f4e4",
   "metadata": {},
   "outputs": [
    {
     "data": {
      "text/plain": [
       "0.926625"
      ]
     },
     "execution_count": 25,
     "metadata": {},
     "output_type": "execute_result"
    }
   ],
   "source": [
    "bc.oob_score_"
   ]
  },
  {
   "cell_type": "markdown",
   "id": "df83605c-a1f1-425a-a22b-937f11333ffb",
   "metadata": {},
   "source": [
    "### GridSearchCV"
   ]
  },
  {
   "cell_type": "code",
   "execution_count": 26,
   "id": "605d2b02-df24-4cb2-bbd6-7a09ccbe8baa",
   "metadata": {},
   "outputs": [],
   "source": [
    "from sklearn.model_selection import GridSearchCV"
   ]
  },
  {
   "cell_type": "code",
   "execution_count": 27,
   "id": "f735cfa1-03b2-4403-9952-51be61386a56",
   "metadata": {},
   "outputs": [],
   "source": [
    "parameters = {\n",
    "    'n_estimators': [50,100], \n",
    "    'max_samples': [0.1,0.4,0.7,1.0],\n",
    "    'bootstrap' : [True,False],\n",
    "    'max_features' : [0.1,0.4,0.7]\n",
    "}"
   ]
  },
  {
   "cell_type": "code",
   "execution_count": 28,
   "id": "440d6247-0558-4385-8074-3f8acc1b187c",
   "metadata": {},
   "outputs": [],
   "source": [
    "search = GridSearchCV(BaggingClassifier(), parameters, cv=5)"
   ]
  },
  {
   "cell_type": "code",
   "execution_count": null,
   "id": "e5a8483e-e4ad-4fae-9545-207a1edfb803",
   "metadata": {},
   "outputs": [],
   "source": [
    "search.fit(X_train,y_train)"
   ]
  },
  {
   "cell_type": "code",
   "execution_count": null,
   "id": "93b5c093-33b7-4d45-bfd6-334fda3287e0",
   "metadata": {},
   "outputs": [],
   "source": [
    "search.best_params_"
   ]
  },
  {
   "cell_type": "code",
   "execution_count": null,
   "id": "5953c679-9a32-4e0e-a127-03d72f5893f3",
   "metadata": {},
   "outputs": [],
   "source": [
    "search.best_score_"
   ]
  }
 ],
 "metadata": {
  "kernelspec": {
   "display_name": "Python 3 (ipykernel)",
   "language": "python",
   "name": "python3"
  },
  "language_info": {
   "codemirror_mode": {
    "name": "ipython",
    "version": 3
   },
   "file_extension": ".py",
   "mimetype": "text/x-python",
   "name": "python",
   "nbconvert_exporter": "python",
   "pygments_lexer": "ipython3",
   "version": "3.11.6"
  }
 },
 "nbformat": 4,
 "nbformat_minor": 5
}
